{
 "cells": [
  {
   "cell_type": "code",
   "execution_count": 36,
   "metadata": {},
   "outputs": [],
   "source": [
    "# Import libraries\n",
    "import pandas as pd\n",
    "import time\n",
    "from datetime import timedelta, date\n",
    "from IPython.display import clear_output      \n",
    "import urllib.request"
   ]
  },
  {
   "cell_type": "code",
   "execution_count": 37,
   "metadata": {},
   "outputs": [],
   "source": [
    "# Definitions\n",
    "def daterange(date1, date2):\n",
    "    for n in range(int ((date2 - date1).days)+1):\n",
    "        yield date1 + timedelta(n)\n",
    "\n",
    "def url_is_alive(url):\n",
    "    \"\"\"\n",
    "    Checks that a given URL is reachable.\n",
    "    :param url: A URL\n",
    "    :rtype: bool\n",
    "    \"\"\"\n",
    "    request = urllib.request.Request(url)\n",
    "    request.get_method = lambda: 'HEAD'\n",
    "\n",
    "    try:\n",
    "        urllib.request.urlopen(request)\n",
    "        return True\n",
    "    except urllib.request.HTTPError:\n",
    "        return False"
   ]
  },
  {
   "cell_type": "code",
   "execution_count": 39,
   "metadata": {
    "scrolled": true
   },
   "outputs": [
    {
     "name": "stdout",
     "output_type": "stream",
     "text": [
      "100.0%\r"
     ]
    },
    {
     "name": "stderr",
     "output_type": "stream",
     "text": [
      "C:\\Users\\james\\Anaconda3\\lib\\site-packages\\ipykernel_launcher.py:34: FutureWarning: Sorting because non-concatenation axis is not aligned. A future version\n",
      "of pandas will change to not sort by default.\n",
      "\n",
      "To accept the future behavior, pass 'sort=True'.\n",
      "\n",
      "To retain the current behavior and silence the warning, pass sort=False\n",
      "\n"
     ]
    }
   ],
   "source": [
    "appended_data = []\n",
    "counter=0\n",
    "\n",
    "# Set date range to import Chimet data from\n",
    "start_dt = date(2009, 1, 1)\n",
    "end_dt   = date(2018, 8, 18)\n",
    "\n",
    "\n",
    "for dt in daterange(start_dt, end_dt):\n",
    "    # url address for each days csv data file\n",
    "    address=str(\"\".join((\"http://www.chimet.co.uk/archive/\", \n",
    "                   dt.strftime(\"%Y\"), \"/\", \n",
    "                   dt.strftime(\"%B\"), \n",
    "                   \"/CSV/Chi\", \n",
    "                   dt.strftime(\"%d\"),\n",
    "                   dt.strftime(\"%b\"),\n",
    "                   dt.strftime(\"%Y\"),\n",
    "                   \".csv\"\n",
    "                  )))\n",
    "    \n",
    "    # Update coounter and progress percentage \n",
    "    print('{:.01%}'.format(counter/3515),end='\\r')\n",
    "    counter=counter+1\n",
    "    \n",
    "    # Check if url exists, then get csv file\n",
    "    if url_is_alive(address):\n",
    "        data=pd.read_csv(address)\n",
    "        appended_data.append(data) # Append days data to end of list\n",
    "    \n",
    "    # Sleep for half a second to not overload server\n",
    "    time.sleep(0.5)\n",
    "\n",
    "# Convert list to pandas dataframe\n",
    "appended_data = pd.concat(appended_data, axis=0)"
   ]
  },
  {
   "cell_type": "code",
   "execution_count": 58,
   "metadata": {},
   "outputs": [
    {
     "data": {
      "text/html": [
       "<div>\n",
       "<style scoped>\n",
       "    .dataframe tbody tr th:only-of-type {\n",
       "        vertical-align: middle;\n",
       "    }\n",
       "\n",
       "    .dataframe tbody tr th {\n",
       "        vertical-align: top;\n",
       "    }\n",
       "\n",
       "    .dataframe thead th {\n",
       "        text-align: right;\n",
       "    }\n",
       "</style>\n",
       "<table border=\"1\" class=\"dataframe\">\n",
       "  <thead>\n",
       "    <tr style=\"text-align: right;\">\n",
       "      <th></th>\n",
       "      <th>APD</th>\n",
       "      <th>ATMP</th>\n",
       "      <th>AWVHT</th>\n",
       "      <th>BARO</th>\n",
       "      <th>DATE</th>\n",
       "      <th>DEPTH</th>\n",
       "      <th>Date</th>\n",
       "      <th>GST</th>\n",
       "      <th>MWVHT</th>\n",
       "      <th>TIME</th>\n",
       "      <th>Time</th>\n",
       "      <th>WD</th>\n",
       "      <th>WSPD</th>\n",
       "      <th>WTMP</th>\n",
       "      <th>WVHT</th>\n",
       "    </tr>\n",
       "  </thead>\n",
       "  <tbody>\n",
       "    <tr>\n",
       "      <th>0</th>\n",
       "      <td>11.13</td>\n",
       "      <td>1.0</td>\n",
       "      <td>0.17</td>\n",
       "      <td>1028.2</td>\n",
       "      <td>01/01/2009</td>\n",
       "      <td>3.42</td>\n",
       "      <td>NaN</td>\n",
       "      <td>14.9</td>\n",
       "      <td>0.20</td>\n",
       "      <td>00:00</td>\n",
       "      <td>NaN</td>\n",
       "      <td>61.0</td>\n",
       "      <td>13.7</td>\n",
       "      <td>5.5</td>\n",
       "      <td>0.27</td>\n",
       "    </tr>\n",
       "    <tr>\n",
       "      <th>1</th>\n",
       "      <td>11.13</td>\n",
       "      <td>0.9</td>\n",
       "      <td>0.19</td>\n",
       "      <td>1027.9</td>\n",
       "      <td>01/01/2009</td>\n",
       "      <td>3.48</td>\n",
       "      <td>NaN</td>\n",
       "      <td>14.7</td>\n",
       "      <td>0.21</td>\n",
       "      <td>00:05</td>\n",
       "      <td>NaN</td>\n",
       "      <td>56.0</td>\n",
       "      <td>13.0</td>\n",
       "      <td>5.5</td>\n",
       "      <td>0.27</td>\n",
       "    </tr>\n",
       "    <tr>\n",
       "      <th>2</th>\n",
       "      <td>11.13</td>\n",
       "      <td>0.8</td>\n",
       "      <td>0.19</td>\n",
       "      <td>1028.2</td>\n",
       "      <td>01/01/2009</td>\n",
       "      <td>3.55</td>\n",
       "      <td>NaN</td>\n",
       "      <td>15.6</td>\n",
       "      <td>0.19</td>\n",
       "      <td>00:10</td>\n",
       "      <td>NaN</td>\n",
       "      <td>54.0</td>\n",
       "      <td>14.0</td>\n",
       "      <td>5.6</td>\n",
       "      <td>0.27</td>\n",
       "    </tr>\n",
       "    <tr>\n",
       "      <th>3</th>\n",
       "      <td>9.48</td>\n",
       "      <td>0.8</td>\n",
       "      <td>0.20</td>\n",
       "      <td>1028.3</td>\n",
       "      <td>01/01/2009</td>\n",
       "      <td>3.6</td>\n",
       "      <td>NaN</td>\n",
       "      <td>15.8</td>\n",
       "      <td>0.23</td>\n",
       "      <td>00:15</td>\n",
       "      <td>NaN</td>\n",
       "      <td>56.0</td>\n",
       "      <td>14.1</td>\n",
       "      <td>5.6</td>\n",
       "      <td>0.28</td>\n",
       "    </tr>\n",
       "    <tr>\n",
       "      <th>4</th>\n",
       "      <td>9.48</td>\n",
       "      <td>0.8</td>\n",
       "      <td>0.19</td>\n",
       "      <td>1028.1</td>\n",
       "      <td>01/01/2009</td>\n",
       "      <td>3.65</td>\n",
       "      <td>NaN</td>\n",
       "      <td>15.9</td>\n",
       "      <td>0.23</td>\n",
       "      <td>00:20</td>\n",
       "      <td>NaN</td>\n",
       "      <td>54.0</td>\n",
       "      <td>13.9</td>\n",
       "      <td>5.7</td>\n",
       "      <td>0.28</td>\n",
       "    </tr>\n",
       "  </tbody>\n",
       "</table>\n",
       "</div>"
      ],
      "text/plain": [
       "     APD  ATMP  AWVHT    BARO        DATE DEPTH Date   GST  MWVHT   TIME Time  \\\n",
       "0  11.13   1.0   0.17  1028.2  01/01/2009  3.42  NaN  14.9   0.20  00:00  NaN   \n",
       "1  11.13   0.9   0.19  1027.9  01/01/2009  3.48  NaN  14.7   0.21  00:05  NaN   \n",
       "2  11.13   0.8   0.19  1028.2  01/01/2009  3.55  NaN  15.6   0.19  00:10  NaN   \n",
       "3   9.48   0.8   0.20  1028.3  01/01/2009   3.6  NaN  15.8   0.23  00:15  NaN   \n",
       "4   9.48   0.8   0.19  1028.1  01/01/2009  3.65  NaN  15.9   0.23  00:20  NaN   \n",
       "\n",
       "     WD  WSPD  WTMP  WVHT  \n",
       "0  61.0  13.7   5.5  0.27  \n",
       "1  56.0  13.0   5.5  0.27  \n",
       "2  54.0  14.0   5.6  0.27  \n",
       "3  56.0  14.1   5.6  0.28  \n",
       "4  54.0  13.9   5.7  0.28  "
      ]
     },
     "execution_count": 58,
     "metadata": {},
     "output_type": "execute_result"
    }
   ],
   "source": [
    "appended_data = appended_data.reset_index(drop=True)\n",
    "appended_data.head()"
   ]
  },
  {
   "cell_type": "code",
   "execution_count": 62,
   "metadata": {},
   "outputs": [
    {
     "data": {
      "text/plain": [
       "<function matplotlib.pyplot.show(*args, **kw)>"
      ]
     },
     "execution_count": 62,
     "metadata": {},
     "output_type": "execute_result"
    },
    {
     "data": {
      "image/png": "[encoded data removed]",
      "text/plain": [
       "<Figure size 432x288 with 1 Axes>"
      ]
     },
     "metadata": {},
     "output_type": "display_data"
    }
   ],
   "source": [
    "chopped = appended_data[-288:]\n",
    "import matplotlib.pyplot as plt\n",
    "plt.plot(chopped['WSPD'])\n",
    "plt.show"
   ]
  },
  {
   "cell_type": "code",
   "execution_count": 63,
   "metadata": {},
   "outputs": [],
   "source": [
    "appended_data.to_pickle(\"Chimet_raw_data\")"
   ]
  },
  {
   "cell_type": "code",
   "execution_count": null,
   "metadata": {},
   "outputs": [],
   "source": []
  }
 ],
 "metadata": {
  "kernelspec": {
   "display_name": "Python 3",
   "language": "python",
   "name": "python3"
  },
  "language_info": {
   "codemirror_mode": {
    "name": "ipython",
    "version": 3
   },
   "file_extension": ".py",
   "mimetype": "text/x-python",
   "name": "python",
   "nbconvert_exporter": "python",
   "pygments_lexer": "ipython3",
   "version": "3.6.5"
  }
 },
 "nbformat": 4,
 "nbformat_minor": 2
}
